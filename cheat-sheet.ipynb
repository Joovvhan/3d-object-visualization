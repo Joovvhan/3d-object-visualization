{
 "cells": [
  {
   "cell_type": "code",
   "execution_count": 1,
   "metadata": {},
   "outputs": [],
   "source": [
    "%matplotlib ipympl\n",
    "\n",
    "import csv\n",
    "import numpy as np\n",
    "import matplotlib.pyplot as plt"
   ]
  },
  {
   "cell_type": "code",
   "execution_count": 2,
   "metadata": {},
   "outputs": [],
   "source": [
    "# Parameters\n",
    "\n",
    "FILE_NAME = 'trajectory.csv'\n",
    "    "
   ]
  },
  {
   "cell_type": "code",
   "execution_count": 3,
   "metadata": {},
   "outputs": [],
   "source": [
    "def cylindrical_generator(r, v, time):\n",
    "    \n",
    "    dt = time[1] - time[0]\n",
    "\n",
    "    theta = 2 * np.pi * np.random.random()\n",
    "    h = np.random.random() - 0.5\n",
    "    theta_v, h_v = v\n",
    "    \n",
    "    data = list()\n",
    "    \n",
    "    for t in time:\n",
    "        x, y, z = r * np.cos(theta), r * np.sin(theta), h\n",
    "        theta += theta_v * dt\n",
    "        h += h_v * dt\n",
    "        data.append([t, x, y, z])\n",
    "    \n",
    "    return np.array(data)\n",
    "    \n",
    "def spherical_generator(r, v, time):\n",
    "    \n",
    "    dt = time[1] - time[0]\n",
    "\n",
    "    theta = 2 * np.pi * np.random.random()\n",
    "    phi = 2 * np.pi * np.random.random()\n",
    "    theta_v, phi_v = v\n",
    "    \n",
    "    data = list()\n",
    "    \n",
    "    for t in time:\n",
    "        x, y, z = r * np.cos(phi) * np.cos(theta), r * np.cos(phi) * np.sin(theta), r * np.sin(phi)\n",
    "        theta += theta_v * dt\n",
    "        phi += phi_v * dt\n",
    "        data.append([t, x, y, z])\n",
    "    \n",
    "    return np.array(data)\n",
    "\n",
    "def cylindrical_generator_random_inertial(r, v, time):\n",
    "    \n",
    "    dt = time[1] - time[0]\n",
    "\n",
    "    theta = 2 * np.pi * np.random.random()\n",
    "    h = np.random.random() - 0.5\n",
    "    theta_v, h_v = v\n",
    "    \n",
    "    data = list()\n",
    "    \n",
    "    for t in time:\n",
    "        x, y, z = r * np.cos(theta), r * np.sin(theta), h\n",
    "        theta_v += (np.random.random() - 0.5)\n",
    "        h_v += (np.random.random() - 0.5)\n",
    "        theta += theta_v * dt\n",
    "        h += h_v * dt\n",
    "        data.append([t, x, y, z])\n",
    "    \n",
    "    return np.array(data)\n",
    "\n",
    "def spherical_generator_random_inertial(r, v, time):\n",
    "    \n",
    "    dt = time[1] - time[0]\n",
    "\n",
    "    theta = 2 * np.pi * np.random.random()\n",
    "    phi = 2 * np.pi * np.random.random()\n",
    "    theta_v, phi_v = v\n",
    "    \n",
    "    data = list()\n",
    "    \n",
    "    for t in time:\n",
    "        x, y, z = r * np.cos(phi) * np.cos(theta), r * np.cos(phi) * np.sin(theta), r * np.sin(phi)\n",
    "        theta_v += (np.random.random() - 0.5)\n",
    "        phi_v += (np.random.random() - 0.5)\n",
    "        theta += theta_v * dt\n",
    "        phi += phi_v * dt\n",
    "        data.append([t, x, y, z])\n",
    "    \n",
    "    return np.array(data)\n",
    "\n",
    "def random_inertial(v, time):\n",
    "    \n",
    "    dt = time[1] - time[0]\n",
    "\n",
    "    x, y, z = 0, 0, 0\n",
    "#     v_x = (np.random.random() - 0.5)\n",
    "#     v_y = (np.random.random() - 0.5)\n",
    "#     v_z = (np.random.random() - 0.5)\n",
    "    v_x, v_y, v_z = v\n",
    "    \n",
    "    data = list()\n",
    "    \n",
    "    for t in time:\n",
    "        x += v_x * dt \n",
    "        y += v_y * dt\n",
    "        z += v_z * dt\n",
    "        v_x += (np.random.random() - 0.5) / 10\n",
    "        v_y += (np.random.random() - 0.5) / 10\n",
    "        v_z += (np.random.random() - 0.5) / 10\n",
    "\n",
    "        data.append([t, x, y, z])\n",
    "    \n",
    "    return np.array(data)"
   ]
  },
  {
   "cell_type": "code",
   "execution_count": 4,
   "metadata": {},
   "outputs": [
    {
     "data": {
      "application/vnd.jupyter.widget-view+json": {
       "model_id": "10db8fc0570f4c749cb3a2c6a70b5b6d",
       "version_major": 2,
       "version_minor": 0
      },
      "text/plain": [
       "Canvas(toolbar=Toolbar(toolitems=[('Home', 'Reset original view', 'home', 'home'), ('Back', 'Back to previous …"
      ]
     },
     "metadata": {},
     "output_type": "display_data"
    }
   ],
   "source": [
    "# Cylinderical Generator Test\n",
    "\n",
    "fs = 20\n",
    "dt = 1/fs\n",
    "\n",
    "time = np.arange(0, 30, dt)\n",
    "\n",
    "fig = plt.figure(figsize=(9, 9))\n",
    "ax = fig.gca(projection='3d')\n",
    "\n",
    "for i in range(3):\n",
    "    \n",
    "    r = i + 1\n",
    "    theta_v = 2 * np.pi * (i + 1) / 4\n",
    "    h_v = 1 / theta_v\n",
    "\n",
    "    data = cylindrical_generator(r, (theta_v, h_v), time)\n",
    "    ax.plot(data[:, 1], \n",
    "            data[:, 2], \n",
    "            data[:, 3], \n",
    "            linewidth=1,\n",
    "            label=f'Trajectory {i}')\n",
    "\n",
    "ax.legend()\n",
    "\n",
    "plt.show()"
   ]
  },
  {
   "cell_type": "code",
   "execution_count": 5,
   "metadata": {},
   "outputs": [
    {
     "data": {
      "application/vnd.jupyter.widget-view+json": {
       "model_id": "75b98ed8af3a48ce95e2cb7f90979aeb",
       "version_major": 2,
       "version_minor": 0
      },
      "text/plain": [
       "Canvas(toolbar=Toolbar(toolitems=[('Home', 'Reset original view', 'home', 'home'), ('Back', 'Back to previous …"
      ]
     },
     "metadata": {},
     "output_type": "display_data"
    }
   ],
   "source": [
    "# Spherical Generator Test\n",
    "\n",
    "fs = 20\n",
    "dt = 1/fs\n",
    "\n",
    "time = np.arange(0, 30, dt)\n",
    "\n",
    "fig = plt.figure(figsize=(9, 9))\n",
    "ax = fig.gca(projection='3d')\n",
    "\n",
    "for i in range(3):\n",
    "    \n",
    "    r = i + 1\n",
    "    theta_v = 2 * np.pi * (i + 1) / 7\n",
    "    phi_v = 2 * np.pi * (i + 1) / 11\n",
    "\n",
    "    data = spherical_generator(r, (theta_v, phi_v), time)\n",
    "    ax.plot(data[:, 1], \n",
    "            data[:, 2], \n",
    "            data[:, 3], \n",
    "            linewidth=1,\n",
    "            label=f'Trajectory {i}')\n",
    "\n",
    "ax.legend()\n",
    "ax.set_box_aspect((1, 1, 1))\n",
    "\n",
    "plt.show()"
   ]
  },
  {
   "cell_type": "code",
   "execution_count": 6,
   "metadata": {},
   "outputs": [
    {
     "data": {
      "application/vnd.jupyter.widget-view+json": {
       "model_id": "2a061ce12cd54ab6ad24dab1450bb849",
       "version_major": 2,
       "version_minor": 0
      },
      "text/plain": [
       "Canvas(toolbar=Toolbar(toolitems=[('Home', 'Reset original view', 'home', 'home'), ('Back', 'Back to previous …"
      ]
     },
     "metadata": {},
     "output_type": "display_data"
    }
   ],
   "source": [
    "# Cylinderical Generator Random Inertial Test\n",
    "\n",
    "fs = 20\n",
    "dt = 1/fs\n",
    "\n",
    "time = np.arange(0, 10, dt)\n",
    "\n",
    "fig = plt.figure(figsize=(9, 9))\n",
    "ax = fig.gca(projection='3d')\n",
    "\n",
    "for i in range(3):\n",
    "    \n",
    "    r = i + 1\n",
    "    theta_v = 2 * np.pi * (i + 1) / 4\n",
    "    h_v = 1 / theta_v\n",
    "\n",
    "    data = cylindrical_generator_random_inertial(r, (theta_v, h_v), time)\n",
    "    ax.plot(data[:, 1], \n",
    "            data[:, 2], \n",
    "            data[:, 3], \n",
    "            linewidth=1,\n",
    "            label=f'Trajectory {i}')\n",
    "\n",
    "ax.legend()\n",
    "ax.set_box_aspect((1, 1, 1))\n",
    "\n",
    "plt.show()"
   ]
  },
  {
   "cell_type": "code",
   "execution_count": 7,
   "metadata": {},
   "outputs": [
    {
     "data": {
      "application/vnd.jupyter.widget-view+json": {
       "model_id": "2ab32144e11d474eab89487ff7b22e6b",
       "version_major": 2,
       "version_minor": 0
      },
      "text/plain": [
       "Canvas(toolbar=Toolbar(toolitems=[('Home', 'Reset original view', 'home', 'home'), ('Back', 'Back to previous …"
      ]
     },
     "metadata": {},
     "output_type": "display_data"
    }
   ],
   "source": [
    "# Spherical Generator Random Inertial Test\n",
    "\n",
    "fs = 20\n",
    "dt = 1/fs\n",
    "\n",
    "time = np.arange(0, 10, dt)\n",
    "\n",
    "fig = plt.figure(figsize=(9, 9))\n",
    "ax = fig.gca(projection='3d')\n",
    "\n",
    "for i in range(3):\n",
    "    \n",
    "    r = i + 1\n",
    "    theta_v = 2 * np.pi * (i + 1) / 13\n",
    "    phi_v = 2 * np.pi * (i + 1) / 17\n",
    "\n",
    "    data = spherical_generator_random_inertial(r, (theta_v, phi_v), time)\n",
    "    ax.plot(data[:, 1], \n",
    "            data[:, 2], \n",
    "            data[:, 3], \n",
    "            linewidth=1,\n",
    "            label=f'Trajectory {i}')\n",
    "\n",
    "ax.legend()\n",
    "ax.set_box_aspect((1, 1, 1))\n",
    "\n",
    "plt.show()"
   ]
  },
  {
   "cell_type": "code",
   "execution_count": 8,
   "metadata": {},
   "outputs": [
    {
     "data": {
      "application/vnd.jupyter.widget-view+json": {
       "model_id": "e1bf06bded1544898c94831e16dd04e0",
       "version_major": 2,
       "version_minor": 0
      },
      "text/plain": [
       "Canvas(toolbar=Toolbar(toolitems=[('Home', 'Reset original view', 'home', 'home'), ('Back', 'Back to previous …"
      ]
     },
     "metadata": {},
     "output_type": "display_data"
    }
   ],
   "source": [
    "# Random Inertial Test\n",
    "\n",
    "fs = 20\n",
    "dt = 1/fs\n",
    "\n",
    "time = np.arange(0, 30, dt)\n",
    "\n",
    "fig = plt.figure(figsize=(9, 9))\n",
    "ax = fig.gca(projection='3d')\n",
    "\n",
    "for i in range(3):\n",
    "    \n",
    "    v_x = (np.random.random() - 0.5)\n",
    "    v_y = (np.random.random() - 0.5)\n",
    "    v_z = (np.random.random() - 0.5)\n",
    "\n",
    "    data = random_inertial((v_x, v_y, v_z), time)\n",
    "    ax.plot(data[:, 1], \n",
    "            data[:, 2], \n",
    "            data[:, 3], \n",
    "            linewidth=1,\n",
    "            label=f'Trajectory {i}')\n",
    "\n",
    "ax.legend()\n",
    "ax.set_box_aspect((1, 1, 1))\n",
    "\n",
    "plt.show()"
   ]
  },
  {
   "cell_type": "code",
   "execution_count": 9,
   "metadata": {},
   "outputs": [
    {
     "name": "stdout",
     "output_type": "stream",
     "text": [
      "* data.shape: (600, 4)\n",
      "* Wrote 600 lines in trajectory.csv\n"
     ]
    }
   ],
   "source": [
    "# WRITE CSV\n",
    "\n",
    "with open(FILE_NAME, 'w') as f:\n",
    "    csv_writer = csv.writer(f)\n",
    "    csv_writer.writerow(['time', 'x', 'y', 'z'])\n",
    "    \n",
    "    print(f'* data.shape: {data.shape}')\n",
    "    \n",
    "    for line in data:\n",
    "        csv_writer.writerow(line)\n",
    "    \n",
    "    print(f'* Wrote {len(data)} lines in {FILE_NAME}')\n",
    "    "
   ]
  },
  {
   "cell_type": "code",
   "execution_count": 10,
   "metadata": {
    "scrolled": true
   },
   "outputs": [
    {
     "name": "stdout",
     "output_type": "stream",
     "text": [
      "* Read 600 lines from trajectory.csv\n",
      "* data.shape: (600, 4)\n"
     ]
    }
   ],
   "source": [
    "# READ CSV\n",
    "\n",
    "data_loaded = list()\n",
    "\n",
    "with open(FILE_NAME, 'r') as f:\n",
    "    csv_reader = csv.reader(f)\n",
    "    \n",
    "    col_name = next(csv_reader)\n",
    "    \n",
    "    line_count = 0\n",
    "    \n",
    "    for line in csv_reader:\n",
    "        data_loaded.append([float(value) for value in line])\n",
    "        line_count += 1\n",
    "\n",
    "    data_loaded = np.array(data_loaded)\n",
    "        \n",
    "    print(f'* Read {line_count} lines from {FILE_NAME}')\n",
    "    print(f'* data.shape: {data_loaded.shape}')"
   ]
  },
  {
   "cell_type": "code",
   "execution_count": 11,
   "metadata": {},
   "outputs": [
    {
     "name": "stdout",
     "output_type": "stream",
     "text": [
      "* Read 600 lines from trajectory.csv\n",
      "* data.shape: (600, 4)\n"
     ]
    },
    {
     "data": {
      "application/vnd.jupyter.widget-view+json": {
       "model_id": "4c4cb00cb98440f2971e7dd7e3e83236",
       "version_major": 2,
       "version_minor": 0
      },
      "text/plain": [
       "Canvas(toolbar=Toolbar(toolitems=[('Home', 'Reset original view', 'home', 'home'), ('Back', 'Back to previous …"
      ]
     },
     "metadata": {},
     "output_type": "display_data"
    }
   ],
   "source": [
    "data_loaded = list()\n",
    "\n",
    "with open(FILE_NAME, 'r') as f:\n",
    "    csv_reader = csv.reader(f)\n",
    "    \n",
    "    col_name = next(csv_reader)\n",
    "    \n",
    "    line_count = 0\n",
    "    \n",
    "    for line in csv_reader:\n",
    "        data_loaded.append([float(value) for value in line])\n",
    "        line_count += 1\n",
    "\n",
    "    data_loaded = np.array(data_loaded)\n",
    "        \n",
    "    print(f'* Read {line_count} lines from {FILE_NAME}')\n",
    "    print(f'* data.shape: {data_loaded.shape}')\n",
    "\n",
    "# Noise = Bias + White Noise\n",
    "    \n",
    "bias = 1/5 * np.random.random()\n",
    "random_noise = 1/3 * (np.random.random(data_loaded.shape) - 0.5)\n",
    "data_with_noised = data_loaded + random_noise + bias\n",
    "\n",
    "fig = plt.figure(figsize=(9, 9))\n",
    "ax = fig.gca(projection='3d')\n",
    "\n",
    "ax.plot(data_with_noised[:, 1], \n",
    "        data_with_noised[:, 2], \n",
    "        data_with_noised[:, 3], \n",
    "        linewidth=1,\n",
    "        label=f'Trajectory with noise')\n",
    "\n",
    "ax.plot(data_loaded[:, 1], \n",
    "        data_loaded[:, 2], \n",
    "        data_loaded[:, 3], \n",
    "        linewidth=1,\n",
    "        label=f'Trajectory')\n",
    "\n",
    "ax.legend()\n",
    "ax.set_box_aspect((1, 1, 1))\n",
    "\n",
    "plt.show()"
   ]
  },
  {
   "cell_type": "code",
   "execution_count": 41,
   "metadata": {},
   "outputs": [
    {
     "name": "stdout",
     "output_type": "stream",
     "text": [
      "* Read 600 lines from trajectory.csv\n",
      "* data.shape: (600, 4)\n"
     ]
    },
    {
     "data": {
      "application/vnd.jupyter.widget-view+json": {
       "model_id": "03027a66bbcd4cbe9263ce676c8e6800",
       "version_major": 2,
       "version_minor": 0
      },
      "text/plain": [
       "Canvas(toolbar=Toolbar(toolitems=[('Home', 'Reset original view', 'home', 'home'), ('Back', 'Back to previous …"
      ]
     },
     "metadata": {},
     "output_type": "display_data"
    }
   ],
   "source": [
    "# position-to-Yaw/Pitch\n",
    "\n",
    "data_loaded = list()\n",
    "\n",
    "with open(FILE_NAME, 'r') as f:\n",
    "    csv_reader = csv.reader(f)\n",
    "    \n",
    "    col_name = next(csv_reader)\n",
    "    \n",
    "    line_count = 0\n",
    "    \n",
    "    for line in csv_reader:\n",
    "        data_loaded.append([float(value) for value in line])\n",
    "        line_count += 1\n",
    "\n",
    "    data_loaded = np.array(data_loaded)\n",
    "        \n",
    "    print(f'* Read {line_count} lines from {FILE_NAME}')\n",
    "    print(f'* data.shape: {data_loaded.shape}')\n",
    "\n",
    "yaw_pitch_data = list()\n",
    "unit_circle_data = list()\n",
    "\n",
    "for data in data_loaded:\n",
    "    t, x, y, z = data\n",
    "    r = np.sqrt(x ** 2 + y ** 2 + z ** 2)\n",
    "    \n",
    "    theta = np.arctan2(x, y)\n",
    "    phi = np.arcsin(z / r)\n",
    "    \n",
    "    yaw_pitch_data.append([t, theta, phi])\n",
    "    \n",
    "    unit_circle_data.append([t, \n",
    "                             1 * np.cos(phi) * np.cos(theta), \n",
    "                             1 * np.cos(phi) * np.sin(theta), \n",
    "                             1 * np.sin(phi)])\n",
    "    \n",
    "yaw_pitch_data = np.array(yaw_pitch_data)\n",
    "unit_circle_data = np.array(unit_circle_data)\n",
    "\n",
    "fig = plt.figure(figsize=(9, 9))\n",
    "ax = fig.gca(projection='3d')\n",
    "\n",
    "u = np.linspace(0, 2 * np.pi, 100)\n",
    "v = np.linspace(0, np.pi, 100)\n",
    "w = np.zeros(len(u))\n",
    "\n",
    "x = np.outer(np.cos(u), np.sin(v))\n",
    "y = np.outer(np.sin(u), np.sin(v))\n",
    "z = np.outer(np.ones(np.size(u)), np.cos(v))\n",
    "\n",
    "ax.plot_surface(x, y, z,  rstride=4, cstride=4, color='b', linewidth=0, alpha=0.02)\n",
    "ax.plot(np.sin(u), np.cos(u), w, color='k', linewidth=1.5, linestyle = 'dashed')\n",
    "ax.plot(np.sin(u), w, np.cos(u), color='k', linewidth=1, linestyle = 'dashed')\n",
    "ax.plot(w, np.sin(u), np.cos(u), color='k', linewidth=.5, linestyle = 'dashed')\n",
    "\n",
    "ax.plot(unit_circle_data[:, 1], \n",
    "        unit_circle_data[:, 2], \n",
    "        unit_circle_data[:, 3], \n",
    "        linewidth=1,\n",
    "        label=f'Yaw/Pitch')\n",
    "\n",
    "\n",
    "# ax.plot(a[0] * np.sin(u) + b[0] * np.cos(u), \n",
    "#         b[1] * np.cos(u), a[2] * np.sin(u) + b[2] * np.cos(u),\n",
    "#         color='k', linestyle = 'dashed')\n",
    "\n",
    "# ax.plot(a[0] * np.sin(vert_front) + b[0] * np.cos(vert_front), \n",
    "#         b[1] * np.cos(vert_front), a[2] * np.sin(vert_front) + b[2] * np.cos(vert_front),\n",
    "#         color='k')\n",
    "\n",
    "ax.legend()\n",
    "ax.set_xlim3d([-1, 1])\n",
    "ax.set_ylim3d([-1, 1])\n",
    "ax.set_zlim3d([-1, 1])\n",
    "ax.set_box_aspect((1, 1, 1))\n",
    "\n",
    "plt.show()"
   ]
  },
  {
   "cell_type": "code",
   "execution_count": 18,
   "metadata": {},
   "outputs": [
    {
     "data": {
      "application/vnd.jupyter.widget-view+json": {
       "model_id": "6cef948d56e84b12888336f3f7e59aa6",
       "version_major": 2,
       "version_minor": 0
      },
      "text/plain": [
       "Canvas(toolbar=Toolbar(toolitems=[('Home', 'Reset original view', 'home', 'home'), ('Back', 'Back to previous …"
      ]
     },
     "metadata": {},
     "output_type": "display_data"
    }
   ],
   "source": [
    "# https://matplotlib.org/examples/pylab_examples/polar_demo.html\n",
    "\n",
    "r = np.arange(0, 2, 0.01)\n",
    "theta = 2 * np.pi * r\n",
    "\n",
    "plt.figure(figsize=(9, 9))\n",
    "ax = plt.subplot(111, projection='polar')\n",
    "ax.plot(theta, r)\n",
    "ax.plot(theta + np.pi * 2/3, r)\n",
    "ax.plot(theta + np.pi * 4/3, r)\n",
    "ax.set_rmax(2)\n",
    "ax.set_rticks([0.5, 1, 1.5, 2])  # less radial ticks\n",
    "ax.set_rlabel_position(-22.5)  # get radial labels away from plotted line\n",
    "ax.grid(True)\n",
    "\n",
    "ax.set_title(\"A line plot on a polar axis\", va='bottom')\n",
    "plt.show()"
   ]
  },
  {
   "cell_type": "code",
   "execution_count": 13,
   "metadata": {},
   "outputs": [
    {
     "name": "stdout",
     "output_type": "stream",
     "text": [
      "* Keys in loaded_mdict == dict_keys(['__header__', '__version__', '__globals__', 'data'])\n",
      "* Loaded mat data shape: (600, 4)\n"
     ]
    }
   ],
   "source": [
    "# .mat data format\n",
    "import scipy.io as sio\n",
    "\n",
    "mdict = {'data': data}\n",
    "# https://docs.scipy.org/doc/scipy/reference/generated/scipy.io.savemat.html#scipy.io.savemat\n",
    "sio.savemat(\"trajectory.mat\", mdict)\n",
    "\n",
    "# https://docs.scipy.org/doc/scipy/reference/generated/scipy.io.loadmat.html#scipy.io.loadmat\n",
    "loaded_mdict = sio.loadmat(\"trajectory.mat\")\n",
    "print(f'* Keys in loaded_mdict == {loaded_mdict.keys()}')\n",
    "\n",
    "loaded_data = loaded_mdict['data']\n",
    "print(f'* Loaded mat data shape: {loaded_data.shape}')"
   ]
  },
  {
   "cell_type": "code",
   "execution_count": 17,
   "metadata": {},
   "outputs": [
    {
     "data": {
      "application/vnd.jupyter.widget-view+json": {
       "model_id": "b897704f5e50494684685757f11b3982",
       "version_major": 2,
       "version_minor": 0
      },
      "text/plain": [
       "Canvas(toolbar=Toolbar(toolitems=[('Home', 'Reset original view', 'home', 'home'), ('Back', 'Back to previous …"
      ]
     },
     "metadata": {},
     "output_type": "display_data"
    }
   ],
   "source": [
    "import numpy as np\n",
    "import matplotlib.pyplot as plt\n",
    "from mpl_toolkits.mplot3d import Axes3D\n",
    "\n",
    "N = 100 # number of points\n",
    "x = np.arange(N, dtype=float) # x,y,z = 1d arrays\n",
    "y = x * x\n",
    "z = np.random.rand(N)\n",
    "\n",
    "fig = plt.figure(figsize=(9, 9))\n",
    "ax = fig.gca(projection='3d')\n",
    "\n",
    "# you have to plot segments, its means your arguments\n",
    "# have to be a slice of arrays like here: from x(i-1) to x(i) => x[i-1:i+1]\n",
    "# to get color from colormap use index: 0 <= i <= 1\n",
    "for i in range(1,N):\n",
    "    ax.plot(x[i-1:i+1], y[i-1:i+1], z[i-1:i+1], c = plt.cm.jet(1. * i / N))\n",
    "\n",
    "plt.show()"
   ]
  },
  {
   "cell_type": "code",
   "execution_count": 15,
   "metadata": {},
   "outputs": [
    {
     "name": "stdout",
     "output_type": "stream",
     "text": [
      "* Read 600 lines from trajectory.csv\n",
      "* data.shape: (600, 4)\n"
     ]
    },
    {
     "data": {
      "application/vnd.jupyter.widget-view+json": {
       "model_id": "a170d8c80e9a47d4b5bb1fb3456ecccf",
       "version_major": 2,
       "version_minor": 0
      },
      "text/plain": [
       "Canvas(toolbar=Toolbar(toolitems=[('Home', 'Reset original view', 'home', 'home'), ('Back', 'Back to previous …"
      ]
     },
     "metadata": {},
     "output_type": "display_data"
    }
   ],
   "source": [
    "import numpy as np\n",
    "import matplotlib.pyplot as plt\n",
    "from mpl_toolkits.mplot3d import Axes3D\n",
    "\n",
    "data_loaded = list()\n",
    "\n",
    "with open(FILE_NAME, 'r') as f:\n",
    "    csv_reader = csv.reader(f)\n",
    "    \n",
    "    col_name = next(csv_reader)\n",
    "    \n",
    "    line_count = 0\n",
    "    \n",
    "    for line in csv_reader:\n",
    "        data_loaded.append([float(value) for value in line])\n",
    "        line_count += 1\n",
    "\n",
    "    data_loaded = np.array(data_loaded)\n",
    "        \n",
    "    print(f'* Read {line_count} lines from {FILE_NAME}')\n",
    "    print(f'* data.shape: {data_loaded.shape}')\n",
    "\n",
    "bias = 1/2 * np.random.random()\n",
    "random_noise = 1/3 * (np.random.random(data_loaded.shape) - 0.5)\n",
    "data_with_noised = data_loaded + random_noise + bias\n",
    "\n",
    "fig = plt.figure(figsize=(9, 9))\n",
    "ax = fig.gca(projection='3d')\n",
    "\n",
    "# https://matplotlib.org/3.1.1/gallery/color/colormap_reference.html\n",
    "# viridis \n",
    "# plasma\n",
    "\n",
    "for i in range(1, len(data)):\n",
    "    # ax.plot(data_loaded[i-1:i+1, 0], data_loaded[i-1:i+1, 1], data_loaded[i-1:i+1, 2], c = plt.cm.jet(i / len(data)))\n",
    "    ax.plot(data_loaded[i-1:i+1, 0], \n",
    "            data_loaded[i-1:i+1, 1], \n",
    "            data_loaded[i-1:i+1, 2], \n",
    "            c = plt.cm.winter(i / len(data)))\n",
    "    \n",
    "    ax.plot(data_with_noised[i-1:i+1, 0], \n",
    "            data_with_noised[i-1:i+1, 1], \n",
    "            data_with_noised[i-1:i+1, 2],\n",
    "            c = plt.cm.autumn(i / len(data)))\n",
    "\n",
    "ax.set_box_aspect((1, 1, 1))\n",
    "\n",
    "plt.show()"
   ]
  },
  {
   "cell_type": "code",
   "execution_count": 16,
   "metadata": {},
   "outputs": [
    {
     "data": {
      "application/vnd.jupyter.widget-view+json": {
       "model_id": "3eaae613de06488a8d96880efa1c3972",
       "version_major": 2,
       "version_minor": 0
      },
      "text/plain": [
       "Canvas(toolbar=Toolbar(toolitems=[('Home', 'Reset original view', 'home', 'home'), ('Back', 'Back to previous …"
      ]
     },
     "metadata": {},
     "output_type": "display_data"
    }
   ],
   "source": [
    "# Noise\n",
    "\n",
    "data_diff = data_with_noised - data_loaded\n",
    "\n",
    "fig = plt.figure(figsize=(9, 9))\n",
    "ax = fig.gca(projection='3d')\n",
    "\n",
    "for i in range(1, len(data)):\n",
    "    line = ax.plot(data_diff[i-1:i+1, 0], \n",
    "            data_diff[i-1:i+1, 1], \n",
    "            data_diff[i-1:i+1, 2], \n",
    "            '.',\n",
    "            c = plt.cm.jet(i / len(data)))\n",
    "    \n",
    "ax.set_box_aspect((1, 1, 1))\n",
    "\n",
    "plt.show()"
   ]
  },
  {
   "cell_type": "code",
   "execution_count": 56,
   "metadata": {},
   "outputs": [
    {
     "name": "stdout",
     "output_type": "stream",
     "text": [
      "* Read 600 lines from trajectory.csv\n",
      "* data.shape: (600, 4)\n"
     ]
    },
    {
     "data": {
      "application/vnd.jupyter.widget-view+json": {
       "model_id": "8da14293dc9d416bacf0b5d123860952",
       "version_major": 2,
       "version_minor": 0
      },
      "text/plain": [
       "Canvas(toolbar=Toolbar(toolitems=[('Home', 'Reset original view', 'home', 'home'), ('Back', 'Back to previous …"
      ]
     },
     "metadata": {},
     "output_type": "display_data"
    }
   ],
   "source": [
    "# position-to-Yaw/Pitch\n",
    "\n",
    "data_loaded = list()\n",
    "\n",
    "with open(FILE_NAME, 'r') as f:\n",
    "    csv_reader = csv.reader(f)\n",
    "    \n",
    "    col_name = next(csv_reader)\n",
    "    \n",
    "    line_count = 0\n",
    "    \n",
    "    for line in csv_reader:\n",
    "        data_loaded.append([float(value) for value in line])\n",
    "        line_count += 1\n",
    "\n",
    "    data_loaded = np.array(data_loaded)\n",
    "        \n",
    "    print(f'* Read {line_count} lines from {FILE_NAME}')\n",
    "    print(f'* data.shape: {data_loaded.shape}')\n",
    "\n",
    "yaw_pitch_data = list()\n",
    "unit_circle_data = list()\n",
    "unit_circle_data_with_noise = list()\n",
    "\n",
    "for data in data_loaded:\n",
    "    t, x, y, z = data\n",
    "    r = np.sqrt(x ** 2 + y ** 2 + z ** 2)\n",
    "    \n",
    "    theta = np.arctan2(x, y)\n",
    "    phi = np.arcsin(z / r)\n",
    "    \n",
    "    yaw_pitch_data.append([t, theta, phi])\n",
    "    \n",
    "    unit_circle_data.append([t, \n",
    "                             1 * np.cos(phi) * np.cos(theta), \n",
    "                             1 * np.cos(phi) * np.sin(theta), \n",
    "                             1 * np.sin(phi)])\n",
    "    \n",
    "    theta += 1/90 * np.pi * (np.random.random() - 0.5)\n",
    "    phi += 1/90 * np.pi * (np.random.random() - 0.5)\n",
    "    \n",
    "    unit_circle_data_with_noise.append([t, \n",
    "                             1 * np.cos(phi) * np.cos(theta), \n",
    "                             1 * np.cos(phi) * np.sin(theta), \n",
    "                             1 * np.sin(phi)])\n",
    "    \n",
    "yaw_pitch_data = np.array(yaw_pitch_data)\n",
    "unit_circle_data = np.array(unit_circle_data)\n",
    "unit_circle_data_with_noise = np.array(unit_circle_data_with_noise)\n",
    "\n",
    "fig = plt.figure(figsize=(9, 9))\n",
    "ax = fig.gca(projection='3d')\n",
    "\n",
    "u = np.linspace(0, 2 * np.pi, 100)\n",
    "v = np.linspace(0, np.pi, 100)\n",
    "w = np.zeros(len(u))\n",
    "\n",
    "x = np.outer(np.cos(u), np.sin(v))\n",
    "y = np.outer(np.sin(u), np.sin(v))\n",
    "z = np.outer(np.ones(np.size(u)), np.cos(v))\n",
    "\n",
    "ax.plot_surface(x, y, z,  rstride=4, cstride=4, color='b', linewidth=0, alpha=0.02)\n",
    "ax.plot(np.sin(u), np.cos(u), w, color='k', linewidth=1.5, linestyle = 'dashed')\n",
    "ax.plot(np.sin(u), w, np.cos(u), color='k', linewidth=1, linestyle = 'dashed')\n",
    "ax.plot(w, np.sin(u), np.cos(u), color='k', linewidth=.5, linestyle = 'dashed')\n",
    "    \n",
    "for i in range(1, len(unit_circle_data_with_noise)):\n",
    "    ax.plot(unit_circle_data_with_noise[i-1:i+1, 1], \n",
    "            unit_circle_data_with_noise[i-1:i+1, 2], \n",
    "            unit_circle_data_with_noise[i-1:i+1, 3],\n",
    "            c = plt.cm.autumn(i / len(unit_circle_data_with_noise)))\n",
    "\n",
    "for i in range(1, len(unit_circle_data)):\n",
    "    ax.plot(unit_circle_data[i-1:i+1, 1], \n",
    "            unit_circle_data[i-1:i+1, 2], \n",
    "            unit_circle_data[i-1:i+1, 3], \n",
    "            linewidth=1,\n",
    "            c = plt.cm.winter(i / len(unit_circle_data)))\n",
    "    \n",
    "ax.set_xlim3d([-1, 1])\n",
    "ax.set_ylim3d([-1, 1])\n",
    "ax.set_zlim3d([-1, 1])\n",
    "ax.set_box_aspect((1, 1, 1))\n",
    "\n",
    "plt.show()"
   ]
  }
 ],
 "metadata": {
  "kernelspec": {
   "display_name": "Python 3",
   "language": "python",
   "name": "python3"
  },
  "language_info": {
   "codemirror_mode": {
    "name": "ipython",
    "version": 3
   },
   "file_extension": ".py",
   "mimetype": "text/x-python",
   "name": "python",
   "nbconvert_exporter": "python",
   "pygments_lexer": "ipython3",
   "version": "3.7.5"
  }
 },
 "nbformat": 4,
 "nbformat_minor": 2
}
