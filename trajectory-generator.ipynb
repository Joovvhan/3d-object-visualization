{
 "cells": [
  {
   "cell_type": "code",
   "execution_count": 1,
   "metadata": {},
   "outputs": [],
   "source": [
    "%lsmagic\n",
    "\n",
    "# %matplotlib notebook\n",
    "%matplotlib ipympl"
   ]
  },
  {
   "cell_type": "code",
   "execution_count": 2,
   "metadata": {},
   "outputs": [],
   "source": [
    "import matplotlib.pyplot as plt\n",
    "import numpy as np\n",
    "from numpy import random\n",
    "\n",
    "# import matplotlib"
   ]
  },
  {
   "cell_type": "code",
   "execution_count": 3,
   "metadata": {},
   "outputs": [],
   "source": [
    "MAX_STEP = 1000\n",
    "NOISE_SCALE = 0.1\n",
    "DISTURBANCE_SCALE = 0.05\n",
    "dt = 0.01"
   ]
  },
  {
   "cell_type": "code",
   "execution_count": 4,
   "metadata": {},
   "outputs": [],
   "source": [
    "initial_position = random.randn(3)\n",
    "initial_vector = random.randn(3)\n",
    "\n",
    "position = initial_position\n",
    "vector = initial_vector\n",
    "\n",
    "position_history = list()\n",
    "position_history.append(position)\n",
    "\n",
    "position_history_with_dis = list()\n",
    "position_history_with_dis.append(position + \\\n",
    "                                 DISTURBANCE_SCALE * random.randn(3))\n",
    "\n",
    "for step in range(MAX_STEP):\n",
    "    vector = vector + NOISE_SCALE * random.randn(3)\n",
    "    vector = vector / np.linalg.norm(vector)\n",
    "    position = position + vector * dt\n",
    "    position_history.append(position)\n",
    "    position_history_with_dis.append(np.array(position) + \\\n",
    "                                 DISTURBANCE_SCALE * random.randn(3))\n",
    "    \n",
    "    \n",
    "position_history_matrix = np.asarray(position_history)\n",
    "position_disturbance_history_matrix = np.asarray(position_history_with_dis)\n",
    "\n"
   ]
  },
  {
   "cell_type": "code",
   "execution_count": 28,
   "metadata": {
    "scrolled": true
   },
   "outputs": [
    {
     "data": {
      "application/vnd.jupyter.widget-view+json": {
       "model_id": "38d04e7d6a06404a9986059e0384b087",
       "version_major": 2,
       "version_minor": 0
      },
      "text/plain": [
       "Canvas(toolbar=Toolbar(toolitems=[('Home', 'Reset original view', 'home', 'home'), ('Back', 'Back to previous …"
      ]
     },
     "metadata": {},
     "output_type": "display_data"
    }
   ],
   "source": [
    "# https://matplotlib.org/mpl_toolkits/mplot3d/tutorial.html\n",
    "from mpl_toolkits.mplot3d import Axes3D\n",
    "\n",
    "fig = plt.figure(figsize=(6, 6))\n",
    "ax = fig.gca(projection='3d')\n",
    "theta = np.linspace(-4 * np.pi, 4 * np.pi, 100)\n",
    "z = np.linspace(-2, 2, 100)\n",
    "r = z**2 + 1\n",
    "x = r * np.sin(theta)\n",
    "y = r * np.cos(theta)\n",
    "\n",
    "ax.plot([3, -3], \n",
    "        [0, 0],\n",
    "        [0, 0],\n",
    "        linewidth=1,\n",
    "        color='k')\n",
    "\n",
    "ax.plot([0, 0], \n",
    "        [3, -3],\n",
    "        [0, 0],\n",
    "        linewidth=1,\n",
    "        color='k')\n",
    "\n",
    "ax.plot([0, 0], \n",
    "        [0, 0],\n",
    "        [3, -3],\n",
    "        linewidth=1,\n",
    "        color='k')\n",
    "\n",
    "ax.plot(position_history_matrix[:, 0], \n",
    "        position_history_matrix[:, 1], \n",
    "        position_history_matrix[:, 2], \n",
    "        linewidth=1,\n",
    "        label='True Trajectory')\n",
    "\n",
    "ax.plot(position_disturbance_history_matrix[:, 0], \n",
    "        position_disturbance_history_matrix[:, 1], \n",
    "        position_disturbance_history_matrix[:, 2], \n",
    "        linewidth=0.5,\n",
    "        label='Observed Trajectory')\n",
    "\n",
    "\n",
    "\n",
    "ax.set_xlim([-3, 3])\n",
    "ax.set_ylim([-3, 3])\n",
    "ax.set_zlim([-3, 3])\n",
    "\n",
    "ax.legend()\n",
    "\n",
    "plt.show()"
   ]
  },
  {
   "cell_type": "code",
   "execution_count": 29,
   "metadata": {
    "scrolled": true
   },
   "outputs": [
    {
     "data": {
      "application/vnd.jupyter.widget-view+json": {
       "model_id": "5647a1d73fa74720bdd5e959c07e7fc9",
       "version_major": 2,
       "version_minor": 0
      },
      "text/plain": [
       "Canvas(toolbar=Toolbar(toolitems=[('Home', 'Reset original view', 'home', 'home'), ('Back', 'Back to previous …"
      ]
     },
     "metadata": {},
     "output_type": "display_data"
    }
   ],
   "source": [
    "# https://matplotlib.org/examples/pylab_examples/polar_demo.html\n",
    "\n",
    "r = np.arange(0, 2, 0.01)\n",
    "theta = 2 * np.pi * r\n",
    "\n",
    "plt.figure()\n",
    "ax = plt.subplot(111, projection='polar')\n",
    "ax.plot(theta, r)\n",
    "ax.plot(theta + np.pi * 2/3, r)\n",
    "ax.plot(theta + np.pi * 4/3, r)\n",
    "ax.set_rmax(2)\n",
    "ax.set_rticks([0.5, 1, 1.5, 2])  # less radial ticks\n",
    "ax.set_rlabel_position(-22.5)  # get radial labels away from plotted line\n",
    "ax.grid(True)\n",
    "\n",
    "ax.set_title(\"A line plot on a polar axis\", va='bottom')\n",
    "plt.show()"
   ]
  },
  {
   "cell_type": "code",
   "execution_count": 30,
   "metadata": {},
   "outputs": [],
   "source": [
    "# Spherical Coordinate\n",
    "# r, phi, theta\n",
    "initial_rpa = np.concatenate([np.array([2]), np.pi * random.randn(1), np.pi * random.randn(1)])\n",
    "# initial_moment = [np.concatenate([random.randn(1), np.pi * random.randn(1), np.pi * random.randn(1)])]\n",
    "initial_moment = np.concatenate([np.array([0]), np.pi * random.randn(1), np.pi * random.randn(1)])\n",
    "\n",
    "rpa = initial_rpa\n",
    "moment = initial_moment\n",
    "\n",
    "r, phi, theta = rpa.T\n",
    "position = np.array([r * np.cos(theta) * np.cos(phi), \n",
    "                           r * np.cos(theta) * np.sin(phi), \n",
    "                           r * np.sin(theta)])\n",
    "\n",
    "position_history = list()\n",
    "position_history.append(position)\n",
    "\n",
    "position_history_with_dis = list()\n",
    "position_history_with_dis.append(position + \\\n",
    "                                 DISTURBANCE_SCALE * random.randn(3))\n",
    "\n",
    "for step in range(MAX_STEP):\n",
    "    moment = moment + NOISE_SCALE * np.concatenate([np.array([0]), np.pi * random.randn(1), np.pi * random.randn(1)])\n",
    "    moment = 2 * moment / np.linalg.norm(moment)\n",
    "    rpa = rpa + moment * dt\n",
    "    r, phi, theta = rpa.T\n",
    "    position = np.array([r * np.cos(theta) * np.cos(phi), \n",
    "                               r * np.cos(theta) * np.sin(phi), \n",
    "                               r * np.sin(theta)])\n",
    "    position_history.append(position)\n",
    "    position_history_with_dis.append(position + DISTURBANCE_SCALE * random.randn(3))\n",
    "    \n",
    "    \n",
    "position_history_matrix = np.asarray(position_history)\n",
    "position_disturbance_history_matrix = np.asarray(position_history_with_dis)\n"
   ]
  },
  {
   "cell_type": "code",
   "execution_count": 31,
   "metadata": {},
   "outputs": [
    {
     "data": {
      "application/vnd.jupyter.widget-view+json": {
       "model_id": "d3c9a291744043beaf72eef67e0b6f73",
       "version_major": 2,
       "version_minor": 0
      },
      "text/plain": [
       "Canvas(toolbar=Toolbar(toolitems=[('Home', 'Reset original view', 'home', 'home'), ('Back', 'Back to previous …"
      ]
     },
     "metadata": {},
     "output_type": "display_data"
    }
   ],
   "source": [
    "fig = plt.figure(figsize=(6, 6))\n",
    "ax = fig.gca(projection='3d')\n",
    "\n",
    "ax.plot([3, -3], \n",
    "        [0, 0],\n",
    "        [0, 0],\n",
    "        linewidth=1,\n",
    "        color='k')\n",
    "\n",
    "ax.plot([0, 0], \n",
    "        [3, -3],\n",
    "        [0, 0],\n",
    "        linewidth=1,\n",
    "        color='k')\n",
    "\n",
    "ax.plot([0, 0], \n",
    "        [0, 0],\n",
    "        [3, -3],\n",
    "        linewidth=1,\n",
    "        color='k')\n",
    "\n",
    "ax.plot(position_history_matrix[:, 0], \n",
    "        position_history_matrix[:, 1], \n",
    "        position_history_matrix[:, 2], \n",
    "        linewidth=1,\n",
    "        label='True Trajectory')\n",
    "\n",
    "ax.plot(position_disturbance_history_matrix[:, 0], \n",
    "        position_disturbance_history_matrix[:, 1], \n",
    "        position_disturbance_history_matrix[:, 2], \n",
    "        linewidth=0.5,\n",
    "        label='Observed Trajectory')\n",
    "\n",
    "\n",
    "\n",
    "ax.set_xlim([-2, 2])\n",
    "ax.set_ylim([-2, 2])\n",
    "ax.set_zlim([-2, 2])\n",
    "\n",
    "ax.legend()\n",
    "\n",
    "plt.show()"
   ]
  },
  {
   "cell_type": "code",
   "execution_count": 9,
   "metadata": {},
   "outputs": [
    {
     "data": {
      "application/vnd.jupyter.widget-view+json": {
       "model_id": "195f9afffc4142acaea1affab0d58b8e",
       "version_major": 2,
       "version_minor": 0
      },
      "text/plain": [
       "Canvas(toolbar=Toolbar(toolitems=[('Home', 'Reset original view', 'home', 'home'), ('Back', 'Back to previous …"
      ]
     },
     "metadata": {},
     "output_type": "display_data"
    }
   ],
   "source": [
    "# https://matplotlib.org/3.1.0/gallery/lines_bars_and_markers/multicolored_line.html\n",
    "import numpy as np\n",
    "import matplotlib.pyplot as plt\n",
    "from matplotlib.collections import LineCollection\n",
    "from matplotlib.colors import ListedColormap, BoundaryNorm\n",
    "\n",
    "x = np.linspace(0, 3 * np.pi, 500)\n",
    "y = np.sin(x)\n",
    "dydx = np.cos(0.5 * (x[:-1] + x[1:]))  # first derivative\n",
    "\n",
    "# Create a set of line segments so that we can color them individually\n",
    "# This creates the points as a N x 1 x 2 array so that we can stack points\n",
    "# together easily to get the segments. The segments array for line collection\n",
    "# needs to be (numlines) x (points per line) x 2 (for x and y)\n",
    "points = np.array([x, y]).T.reshape(-1, 1, 2)\n",
    "segments = np.concatenate([points[:-1], points[1:]], axis=1)\n",
    "\n",
    "fig, axs = plt.subplots(2, 1, sharex=True, sharey=True)\n",
    "\n",
    "# Create a continuous norm to map from data points to colors\n",
    "norm = plt.Normalize(dydx.min(), dydx.max())\n",
    "lc = LineCollection(segments, cmap='viridis', norm=norm)\n",
    "# Set the values used for colormapping\n",
    "lc.set_array(dydx)\n",
    "lc.set_linewidth(2)\n",
    "line = axs[0].add_collection(lc)\n",
    "fig.colorbar(line, ax=axs[0])\n",
    "\n",
    "# Use a boundary norm instead\n",
    "cmap = ListedColormap(['r', 'g', 'b'])\n",
    "norm = BoundaryNorm([-1, -0.5, 0.5, 1], cmap.N)\n",
    "lc = LineCollection(segments, cmap=cmap, norm=norm)\n",
    "lc.set_array(dydx)\n",
    "lc.set_linewidth(2)\n",
    "line = axs[1].add_collection(lc)\n",
    "fig.colorbar(line, ax=axs[1])\n",
    "\n",
    "axs[0].set_xlim(x.min(), x.max())\n",
    "axs[0].set_ylim(-1.1, 1.1)\n",
    "plt.show()"
   ]
  },
  {
   "cell_type": "code",
   "execution_count": 33,
   "metadata": {
    "scrolled": false
   },
   "outputs": [
    {
     "data": {
      "application/vnd.jupyter.widget-view+json": {
       "model_id": "b3dcf2a8bb32448cb6476d0dbf52bccb",
       "version_major": 2,
       "version_minor": 0
      },
      "text/plain": [
       "Canvas(toolbar=Toolbar(toolitems=[('Home', 'Reset original view', 'home', 'home'), ('Back', 'Back to previous …"
      ]
     },
     "metadata": {},
     "output_type": "display_data"
    }
   ],
   "source": [
    "import numpy as np\n",
    "import matplotlib.pyplot as plt\n",
    "from mpl_toolkits.mplot3d import Axes3D\n",
    "fig = plt.figure(figsize=(6, 6))\n",
    "ax = fig.add_subplot(111, projection='3d')\n",
    "# ax.set_aspect('equal')\n",
    "\n",
    "u = np.linspace(0, 2 * np.pi, 100)\n",
    "v = np.linspace(0, np.pi, 100)\n",
    "\n",
    "x = 2 * np.outer(np.cos(u), np.sin(v))\n",
    "y = 2 * np.outer(np.sin(u), np.sin(v))\n",
    "z = 2 * np.outer(np.ones(np.size(u)), np.cos(v))\n",
    "#for i in range(2):\n",
    "#    ax.plot_surface(x+random.randint(-5,5), y+random.randint(-5,5), z+random.randint(-5,5),  rstride=4, cstride=4, color='b', linewidth=0, alpha=0.5)\n",
    "elev = 10.0\n",
    "rot = 80.0 / 180 * np.pi\n",
    "ax.plot_surface(x, y, z,  rstride=4, cstride=4, color='b', linewidth=0, alpha=0.02)\n",
    "#calculate vectors for \"vertical\" circle\n",
    "a = 2 * np.array([-np.sin(elev / 180 * np.pi), 0, np.cos(elev / 180 * np.pi)])\n",
    "b = np.array([0, 1, 0])\n",
    "b = b * np.cos(rot) + np.cross(a, b) * np.sin(rot) + a * np.dot(a, b) * (1 - np.cos(rot))\n",
    "ax.plot(2 * np.sin(u), 2 * np.cos(u),0,color='k', linestyle = 'dashed')\n",
    "horiz_front = np.linspace(0, np.pi, 100)\n",
    "ax.plot(2 * np.sin(horiz_front), 2 * np.cos(horiz_front),0,color='k')\n",
    "vert_front = np.linspace(np.pi / 2, 3 * np.pi / 2, 100)\n",
    "ax.plot(a[0] * np.sin(u) + b[0] * np.cos(u), b[1] * np.cos(u), a[2] * np.sin(u) + b[2] * np.cos(u),color='k', linestyle = 'dashed')\n",
    "ax.plot(a[0] * np.sin(vert_front) + b[0] * np.cos(vert_front), b[1] * np.cos(vert_front), a[2] * np.sin(vert_front) + b[2] * np.cos(vert_front),color='k')\n",
    "\n",
    "ax.plot(position_history_matrix[:, 0], \n",
    "        position_history_matrix[:, 1], \n",
    "        position_history_matrix[:, 2], \n",
    "        linewidth=1,\n",
    "        label='True Trajectory')\n",
    "\n",
    "ax.plot(position_disturbance_history_matrix[:, 0], \n",
    "        position_disturbance_history_matrix[:, 1], \n",
    "        position_disturbance_history_matrix[:, 2], \n",
    "        linewidth=0.5,\n",
    "        label='Observed Trajectory')\n",
    "\n",
    "# ax.set_xlim([-1, 1])\n",
    "# ax.set_ylim([-1, 1])\n",
    "# ax.set_zlim([-1, 1])\n",
    "\n",
    "ax.set_xlim3d([-2, 2])\n",
    "ax.set_ylim3d([-2, 2])\n",
    "ax.set_zlim3d([-2, 2])\n",
    "# ax.set_aspect('auto')\n",
    "ax.set_box_aspect((1, 1, 1))\n",
    "\n",
    "ax.view_init(elev = elev, azim = 0)\n",
    "\n",
    "\n",
    "plt.show()"
   ]
  }
 ],
 "metadata": {
  "kernelspec": {
   "display_name": "Python 3",
   "language": "python",
   "name": "python3"
  },
  "language_info": {
   "codemirror_mode": {
    "name": "ipython",
    "version": 3
   },
   "file_extension": ".py",
   "mimetype": "text/x-python",
   "name": "python",
   "nbconvert_exporter": "python",
   "pygments_lexer": "ipython3",
   "version": "3.7.5"
  }
 },
 "nbformat": 4,
 "nbformat_minor": 2
}
